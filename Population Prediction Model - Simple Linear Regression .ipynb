{
 "cells": [
  {
   "cell_type": "markdown",
   "metadata": {},
   "source": [
    "# Importing the necessary libraries "
   ]
  },
  {
   "cell_type": "code",
   "execution_count": 14,
   "metadata": {},
   "outputs": [
    {
     "data": {
      "text/html": [
       "<div>\n",
       "<style scoped>\n",
       "    .dataframe tbody tr th:only-of-type {\n",
       "        vertical-align: middle;\n",
       "    }\n",
       "\n",
       "    .dataframe tbody tr th {\n",
       "        vertical-align: top;\n",
       "    }\n",
       "\n",
       "    .dataframe thead th {\n",
       "        text-align: right;\n",
       "    }\n",
       "</style>\n",
       "<table border=\"1\" class=\"dataframe\">\n",
       "  <thead>\n",
       "    <tr style=\"text-align: right;\">\n",
       "      <th></th>\n",
       "      <th>Year</th>\n",
       "      <th>Yearly % \\nChange</th>\n",
       "      <th>Yearly\\nChange</th>\n",
       "      <th>Median Age</th>\n",
       "      <th>Fertility Rate</th>\n",
       "      <th>Density (P/Km²)</th>\n",
       "      <th>Urban\\nPop %</th>\n",
       "      <th>Urban Population</th>\n",
       "      <th>Country's Share of\\nWorld Pop</th>\n",
       "      <th>World Population</th>\n",
       "      <th>India\\nGlobal Rank</th>\n",
       "      <th>Population</th>\n",
       "    </tr>\n",
       "  </thead>\n",
       "  <tbody>\n",
       "    <tr>\n",
       "      <td>0</td>\n",
       "      <td>2020</td>\n",
       "      <td>1.04</td>\n",
       "      <td>13970396</td>\n",
       "      <td>28.4</td>\n",
       "      <td>2.24</td>\n",
       "      <td>464</td>\n",
       "      <td>35.0</td>\n",
       "      <td>483098640</td>\n",
       "      <td>17.70</td>\n",
       "      <td>7794798739</td>\n",
       "      <td>2</td>\n",
       "      <td>1380004385</td>\n",
       "    </tr>\n",
       "    <tr>\n",
       "      <td>1</td>\n",
       "      <td>2019</td>\n",
       "      <td>1.02</td>\n",
       "      <td>13775474</td>\n",
       "      <td>27.1</td>\n",
       "      <td>2.36</td>\n",
       "      <td>460</td>\n",
       "      <td>34.5</td>\n",
       "      <td>471828295</td>\n",
       "      <td>17.71</td>\n",
       "      <td>7713468100</td>\n",
       "      <td>2</td>\n",
       "      <td>1366417754</td>\n",
       "    </tr>\n",
       "    <tr>\n",
       "      <td>2</td>\n",
       "      <td>2018</td>\n",
       "      <td>1.04</td>\n",
       "      <td>13965495</td>\n",
       "      <td>27.1</td>\n",
       "      <td>2.36</td>\n",
       "      <td>455</td>\n",
       "      <td>34.1</td>\n",
       "      <td>460779764</td>\n",
       "      <td>17.73</td>\n",
       "      <td>7631091040</td>\n",
       "      <td>2</td>\n",
       "      <td>1352642280</td>\n",
       "    </tr>\n",
       "    <tr>\n",
       "      <td>3</td>\n",
       "      <td>2017</td>\n",
       "      <td>1.07</td>\n",
       "      <td>14159536</td>\n",
       "      <td>27.1</td>\n",
       "      <td>2.36</td>\n",
       "      <td>450</td>\n",
       "      <td>33.6</td>\n",
       "      <td>449963381</td>\n",
       "      <td>17.74</td>\n",
       "      <td>7547858925</td>\n",
       "      <td>2</td>\n",
       "      <td>1338676785</td>\n",
       "    </tr>\n",
       "    <tr>\n",
       "      <td>4</td>\n",
       "      <td>2016</td>\n",
       "      <td>1.10</td>\n",
       "      <td>14364846</td>\n",
       "      <td>27.1</td>\n",
       "      <td>2.36</td>\n",
       "      <td>445</td>\n",
       "      <td>33.2</td>\n",
       "      <td>439391699</td>\n",
       "      <td>17.75</td>\n",
       "      <td>7464022049</td>\n",
       "      <td>2</td>\n",
       "      <td>1324517249</td>\n",
       "    </tr>\n",
       "    <tr>\n",
       "      <td>5</td>\n",
       "      <td>2015</td>\n",
       "      <td>1.20</td>\n",
       "      <td>15174247</td>\n",
       "      <td>26.8</td>\n",
       "      <td>2.40</td>\n",
       "      <td>441</td>\n",
       "      <td>32.7</td>\n",
       "      <td>429069459</td>\n",
       "      <td>17.75</td>\n",
       "      <td>7379797139</td>\n",
       "      <td>2</td>\n",
       "      <td>1310152403</td>\n",
       "    </tr>\n",
       "    <tr>\n",
       "      <td>6</td>\n",
       "      <td>2010</td>\n",
       "      <td>1.47</td>\n",
       "      <td>17334249</td>\n",
       "      <td>25.1</td>\n",
       "      <td>2.80</td>\n",
       "      <td>415</td>\n",
       "      <td>30.8</td>\n",
       "      <td>380744554</td>\n",
       "      <td>17.74</td>\n",
       "      <td>6956823603</td>\n",
       "      <td>2</td>\n",
       "      <td>1234281170</td>\n",
       "    </tr>\n",
       "    <tr>\n",
       "      <td>7</td>\n",
       "      <td>2005</td>\n",
       "      <td>1.67</td>\n",
       "      <td>18206876</td>\n",
       "      <td>23.8</td>\n",
       "      <td>3.14</td>\n",
       "      <td>386</td>\n",
       "      <td>29.1</td>\n",
       "      <td>334479406</td>\n",
       "      <td>17.54</td>\n",
       "      <td>6541907027</td>\n",
       "      <td>2</td>\n",
       "      <td>1147609927</td>\n",
       "    </tr>\n",
       "    <tr>\n",
       "      <td>8</td>\n",
       "      <td>2000</td>\n",
       "      <td>1.85</td>\n",
       "      <td>18530592</td>\n",
       "      <td>22.7</td>\n",
       "      <td>3.48</td>\n",
       "      <td>355</td>\n",
       "      <td>27.6</td>\n",
       "      <td>291350282</td>\n",
       "      <td>17.20</td>\n",
       "      <td>6143493823</td>\n",
       "      <td>2</td>\n",
       "      <td>1056575549</td>\n",
       "    </tr>\n",
       "    <tr>\n",
       "      <td>9</td>\n",
       "      <td>1995</td>\n",
       "      <td>1.99</td>\n",
       "      <td>18128958</td>\n",
       "      <td>21.8</td>\n",
       "      <td>3.83</td>\n",
       "      <td>324</td>\n",
       "      <td>26.5</td>\n",
       "      <td>255558824</td>\n",
       "      <td>16.78</td>\n",
       "      <td>5744212979</td>\n",
       "      <td>2</td>\n",
       "      <td>963922588</td>\n",
       "    </tr>\n",
       "    <tr>\n",
       "      <td>10</td>\n",
       "      <td>1990</td>\n",
       "      <td>2.17</td>\n",
       "      <td>17783558</td>\n",
       "      <td>21.1</td>\n",
       "      <td>4.27</td>\n",
       "      <td>294</td>\n",
       "      <td>25.5</td>\n",
       "      <td>222296728</td>\n",
       "      <td>16.39</td>\n",
       "      <td>5327231061</td>\n",
       "      <td>2</td>\n",
       "      <td>873277798</td>\n",
       "    </tr>\n",
       "    <tr>\n",
       "      <td>11</td>\n",
       "      <td>1985</td>\n",
       "      <td>2.33</td>\n",
       "      <td>17081433</td>\n",
       "      <td>20.6</td>\n",
       "      <td>4.68</td>\n",
       "      <td>264</td>\n",
       "      <td>24.3</td>\n",
       "      <td>190321782</td>\n",
       "      <td>16.10</td>\n",
       "      <td>4870921740</td>\n",
       "      <td>2</td>\n",
       "      <td>784360008</td>\n",
       "    </tr>\n",
       "    <tr>\n",
       "      <td>12</td>\n",
       "      <td>1980</td>\n",
       "      <td>2.32</td>\n",
       "      <td>15169989</td>\n",
       "      <td>20.2</td>\n",
       "      <td>4.97</td>\n",
       "      <td>235</td>\n",
       "      <td>23.0</td>\n",
       "      <td>160941941</td>\n",
       "      <td>15.68</td>\n",
       "      <td>4458003514</td>\n",
       "      <td>2</td>\n",
       "      <td>698952844</td>\n",
       "    </tr>\n",
       "    <tr>\n",
       "      <td>13</td>\n",
       "      <td>1975</td>\n",
       "      <td>2.33</td>\n",
       "      <td>13582621</td>\n",
       "      <td>19.7</td>\n",
       "      <td>5.41</td>\n",
       "      <td>210</td>\n",
       "      <td>21.3</td>\n",
       "      <td>132533810</td>\n",
       "      <td>15.27</td>\n",
       "      <td>4079480606</td>\n",
       "      <td>2</td>\n",
       "      <td>623102897</td>\n",
       "    </tr>\n",
       "    <tr>\n",
       "      <td>14</td>\n",
       "      <td>1970</td>\n",
       "      <td>2.15</td>\n",
       "      <td>11213294</td>\n",
       "      <td>19.3</td>\n",
       "      <td>5.72</td>\n",
       "      <td>187</td>\n",
       "      <td>19.7</td>\n",
       "      <td>109388950</td>\n",
       "      <td>15.00</td>\n",
       "      <td>3700437046</td>\n",
       "      <td>2</td>\n",
       "      <td>555189792</td>\n",
       "    </tr>\n",
       "    <tr>\n",
       "      <td>15</td>\n",
       "      <td>1965</td>\n",
       "      <td>2.07</td>\n",
       "      <td>9715129</td>\n",
       "      <td>19.6</td>\n",
       "      <td>5.89</td>\n",
       "      <td>168</td>\n",
       "      <td>18.7</td>\n",
       "      <td>93493844</td>\n",
       "      <td>14.95</td>\n",
       "      <td>3339583597</td>\n",
       "      <td>2</td>\n",
       "      <td>499123324</td>\n",
       "    </tr>\n",
       "    <tr>\n",
       "      <td>16</td>\n",
       "      <td>1960</td>\n",
       "      <td>1.91</td>\n",
       "      <td>8133417</td>\n",
       "      <td>20.2</td>\n",
       "      <td>5.90</td>\n",
       "      <td>152</td>\n",
       "      <td>17.9</td>\n",
       "      <td>80565723</td>\n",
       "      <td>14.85</td>\n",
       "      <td>3034949748</td>\n",
       "      <td>2</td>\n",
       "      <td>450547679</td>\n",
       "    </tr>\n",
       "    <tr>\n",
       "      <td>17</td>\n",
       "      <td>1955</td>\n",
       "      <td>1.72</td>\n",
       "      <td>6711079</td>\n",
       "      <td>20.7</td>\n",
       "      <td>5.90</td>\n",
       "      <td>138</td>\n",
       "      <td>17.6</td>\n",
       "      <td>71958495</td>\n",
       "      <td>14.78</td>\n",
       "      <td>2,77,30,19,936</td>\n",
       "      <td>2</td>\n",
       "      <td>409880595</td>\n",
       "    </tr>\n",
       "  </tbody>\n",
       "</table>\n",
       "</div>"
      ],
      "text/plain": [
       "    Year  Yearly % \\nChange  Yearly\\nChange  Median Age  Fertility Rate  \\\n",
       "0   2020               1.04        13970396        28.4            2.24   \n",
       "1   2019               1.02        13775474        27.1            2.36   \n",
       "2   2018               1.04        13965495        27.1            2.36   \n",
       "3   2017               1.07        14159536        27.1            2.36   \n",
       "4   2016               1.10        14364846        27.1            2.36   \n",
       "5   2015               1.20        15174247        26.8            2.40   \n",
       "6   2010               1.47        17334249        25.1            2.80   \n",
       "7   2005               1.67        18206876        23.8            3.14   \n",
       "8   2000               1.85        18530592        22.7            3.48   \n",
       "9   1995               1.99        18128958        21.8            3.83   \n",
       "10  1990               2.17        17783558        21.1            4.27   \n",
       "11  1985               2.33        17081433        20.6            4.68   \n",
       "12  1980               2.32        15169989        20.2            4.97   \n",
       "13  1975               2.33        13582621        19.7            5.41   \n",
       "14  1970               2.15        11213294        19.3            5.72   \n",
       "15  1965               2.07         9715129        19.6            5.89   \n",
       "16  1960               1.91         8133417        20.2            5.90   \n",
       "17  1955               1.72         6711079        20.7            5.90   \n",
       "\n",
       "    Density (P/Km²)  Urban\\nPop %  Urban Population  \\\n",
       "0               464          35.0         483098640   \n",
       "1               460          34.5         471828295   \n",
       "2               455          34.1         460779764   \n",
       "3               450          33.6         449963381   \n",
       "4               445          33.2         439391699   \n",
       "5               441          32.7         429069459   \n",
       "6               415          30.8         380744554   \n",
       "7               386          29.1         334479406   \n",
       "8               355          27.6         291350282   \n",
       "9               324          26.5         255558824   \n",
       "10              294          25.5         222296728   \n",
       "11              264          24.3         190321782   \n",
       "12              235          23.0         160941941   \n",
       "13              210          21.3         132533810   \n",
       "14              187          19.7         109388950   \n",
       "15              168          18.7          93493844   \n",
       "16              152          17.9          80565723   \n",
       "17              138          17.6          71958495   \n",
       "\n",
       "    Country's Share of\\nWorld Pop World Population  India\\nGlobal Rank  \\\n",
       "0                           17.70       7794798739                   2   \n",
       "1                           17.71       7713468100                   2   \n",
       "2                           17.73       7631091040                   2   \n",
       "3                           17.74       7547858925                   2   \n",
       "4                           17.75       7464022049                   2   \n",
       "5                           17.75       7379797139                   2   \n",
       "6                           17.74       6956823603                   2   \n",
       "7                           17.54       6541907027                   2   \n",
       "8                           17.20       6143493823                   2   \n",
       "9                           16.78       5744212979                   2   \n",
       "10                          16.39       5327231061                   2   \n",
       "11                          16.10       4870921740                   2   \n",
       "12                          15.68       4458003514                   2   \n",
       "13                          15.27       4079480606                   2   \n",
       "14                          15.00       3700437046                   2   \n",
       "15                          14.95       3339583597                   2   \n",
       "16                          14.85       3034949748                   2   \n",
       "17                          14.78   2,77,30,19,936                   2   \n",
       "\n",
       "    Population  \n",
       "0   1380004385  \n",
       "1   1366417754  \n",
       "2   1352642280  \n",
       "3   1338676785  \n",
       "4   1324517249  \n",
       "5   1310152403  \n",
       "6   1234281170  \n",
       "7   1147609927  \n",
       "8   1056575549  \n",
       "9    963922588  \n",
       "10   873277798  \n",
       "11   784360008  \n",
       "12   698952844  \n",
       "13   623102897  \n",
       "14   555189792  \n",
       "15   499123324  \n",
       "16   450547679  \n",
       "17   409880595  "
      ]
     },
     "execution_count": 14,
     "metadata": {},
     "output_type": "execute_result"
    }
   ],
   "source": [
    "import pandas as pd\n",
    "import matplotlib.pyplot as plt\n",
    "from sklearn.linear_model import LinearRegression\n",
    "from sklearn.model_selection import train_test_split\n",
    "df=pd.read_csv(r\"C:\\Users\\prathusha\\Downloads\\population (1)....csv\")\n",
    "df"
   ]
  },
  {
   "cell_type": "code",
   "execution_count": 15,
   "metadata": {},
   "outputs": [
    {
     "data": {
      "text/html": [
       "<div>\n",
       "<style scoped>\n",
       "    .dataframe tbody tr th:only-of-type {\n",
       "        vertical-align: middle;\n",
       "    }\n",
       "\n",
       "    .dataframe tbody tr th {\n",
       "        vertical-align: top;\n",
       "    }\n",
       "\n",
       "    .dataframe thead th {\n",
       "        text-align: right;\n",
       "    }\n",
       "</style>\n",
       "<table border=\"1\" class=\"dataframe\">\n",
       "  <thead>\n",
       "    <tr style=\"text-align: right;\">\n",
       "      <th></th>\n",
       "      <th>Year</th>\n",
       "      <th>Yearly % \\nChange</th>\n",
       "      <th>Yearly\\nChange</th>\n",
       "      <th>Median Age</th>\n",
       "      <th>Fertility Rate</th>\n",
       "      <th>Density (P/Km²)</th>\n",
       "      <th>Urban\\nPop %</th>\n",
       "      <th>Urban Population</th>\n",
       "      <th>Country's Share of\\nWorld Pop</th>\n",
       "      <th>World Population</th>\n",
       "      <th>India\\nGlobal Rank</th>\n",
       "      <th>Population</th>\n",
       "    </tr>\n",
       "  </thead>\n",
       "  <tbody>\n",
       "    <tr>\n",
       "      <td>0</td>\n",
       "      <td>2020</td>\n",
       "      <td>1.04</td>\n",
       "      <td>13970396</td>\n",
       "      <td>28.4</td>\n",
       "      <td>2.24</td>\n",
       "      <td>464</td>\n",
       "      <td>35.0</td>\n",
       "      <td>483098640</td>\n",
       "      <td>17.70</td>\n",
       "      <td>7794798739</td>\n",
       "      <td>2</td>\n",
       "      <td>1380004385</td>\n",
       "    </tr>\n",
       "    <tr>\n",
       "      <td>1</td>\n",
       "      <td>2019</td>\n",
       "      <td>1.02</td>\n",
       "      <td>13775474</td>\n",
       "      <td>27.1</td>\n",
       "      <td>2.36</td>\n",
       "      <td>460</td>\n",
       "      <td>34.5</td>\n",
       "      <td>471828295</td>\n",
       "      <td>17.71</td>\n",
       "      <td>7713468100</td>\n",
       "      <td>2</td>\n",
       "      <td>1366417754</td>\n",
       "    </tr>\n",
       "    <tr>\n",
       "      <td>2</td>\n",
       "      <td>2018</td>\n",
       "      <td>1.04</td>\n",
       "      <td>13965495</td>\n",
       "      <td>27.1</td>\n",
       "      <td>2.36</td>\n",
       "      <td>455</td>\n",
       "      <td>34.1</td>\n",
       "      <td>460779764</td>\n",
       "      <td>17.73</td>\n",
       "      <td>7631091040</td>\n",
       "      <td>2</td>\n",
       "      <td>1352642280</td>\n",
       "    </tr>\n",
       "    <tr>\n",
       "      <td>3</td>\n",
       "      <td>2017</td>\n",
       "      <td>1.07</td>\n",
       "      <td>14159536</td>\n",
       "      <td>27.1</td>\n",
       "      <td>2.36</td>\n",
       "      <td>450</td>\n",
       "      <td>33.6</td>\n",
       "      <td>449963381</td>\n",
       "      <td>17.74</td>\n",
       "      <td>7547858925</td>\n",
       "      <td>2</td>\n",
       "      <td>1338676785</td>\n",
       "    </tr>\n",
       "    <tr>\n",
       "      <td>4</td>\n",
       "      <td>2016</td>\n",
       "      <td>1.10</td>\n",
       "      <td>14364846</td>\n",
       "      <td>27.1</td>\n",
       "      <td>2.36</td>\n",
       "      <td>445</td>\n",
       "      <td>33.2</td>\n",
       "      <td>439391699</td>\n",
       "      <td>17.75</td>\n",
       "      <td>7464022049</td>\n",
       "      <td>2</td>\n",
       "      <td>1324517249</td>\n",
       "    </tr>\n",
       "  </tbody>\n",
       "</table>\n",
       "</div>"
      ],
      "text/plain": [
       "   Year  Yearly % \\nChange  Yearly\\nChange  Median Age  Fertility Rate  \\\n",
       "0  2020               1.04        13970396        28.4            2.24   \n",
       "1  2019               1.02        13775474        27.1            2.36   \n",
       "2  2018               1.04        13965495        27.1            2.36   \n",
       "3  2017               1.07        14159536        27.1            2.36   \n",
       "4  2016               1.10        14364846        27.1            2.36   \n",
       "\n",
       "   Density (P/Km²)  Urban\\nPop %  Urban Population  \\\n",
       "0              464          35.0         483098640   \n",
       "1              460          34.5         471828295   \n",
       "2              455          34.1         460779764   \n",
       "3              450          33.6         449963381   \n",
       "4              445          33.2         439391699   \n",
       "\n",
       "   Country's Share of\\nWorld Pop World Population  India\\nGlobal Rank  \\\n",
       "0                          17.70       7794798739                   2   \n",
       "1                          17.71       7713468100                   2   \n",
       "2                          17.73       7631091040                   2   \n",
       "3                          17.74       7547858925                   2   \n",
       "4                          17.75       7464022049                   2   \n",
       "\n",
       "   Population  \n",
       "0  1380004385  \n",
       "1  1366417754  \n",
       "2  1352642280  \n",
       "3  1338676785  \n",
       "4  1324517249  "
      ]
     },
     "execution_count": 15,
     "metadata": {},
     "output_type": "execute_result"
    }
   ],
   "source": [
    "df.head()"
   ]
  },
  {
   "cell_type": "code",
   "execution_count": 16,
   "metadata": {},
   "outputs": [
    {
     "data": {
      "text/html": [
       "<div>\n",
       "<style scoped>\n",
       "    .dataframe tbody tr th:only-of-type {\n",
       "        vertical-align: middle;\n",
       "    }\n",
       "\n",
       "    .dataframe tbody tr th {\n",
       "        vertical-align: top;\n",
       "    }\n",
       "\n",
       "    .dataframe thead th {\n",
       "        text-align: right;\n",
       "    }\n",
       "</style>\n",
       "<table border=\"1\" class=\"dataframe\">\n",
       "  <thead>\n",
       "    <tr style=\"text-align: right;\">\n",
       "      <th></th>\n",
       "      <th>Year</th>\n",
       "      <th>Yearly % \\nChange</th>\n",
       "      <th>Yearly\\nChange</th>\n",
       "      <th>Median Age</th>\n",
       "      <th>Fertility Rate</th>\n",
       "      <th>Density (P/Km²)</th>\n",
       "      <th>Urban\\nPop %</th>\n",
       "      <th>Urban Population</th>\n",
       "      <th>Country's Share of\\nWorld Pop</th>\n",
       "      <th>India\\nGlobal Rank</th>\n",
       "      <th>Population</th>\n",
       "    </tr>\n",
       "  </thead>\n",
       "  <tbody>\n",
       "    <tr>\n",
       "      <td>count</td>\n",
       "      <td>18.000000</td>\n",
       "      <td>18.000000</td>\n",
       "      <td>1.800000e+01</td>\n",
       "      <td>18.000000</td>\n",
       "      <td>18.000000</td>\n",
       "      <td>18.000000</td>\n",
       "      <td>18.000000</td>\n",
       "      <td>1.800000e+01</td>\n",
       "      <td>18.000000</td>\n",
       "      <td>18.0</td>\n",
       "      <td>1.800000e+01</td>\n",
       "    </tr>\n",
       "    <tr>\n",
       "      <td>mean</td>\n",
       "      <td>1994.166667</td>\n",
       "      <td>1.691667</td>\n",
       "      <td>1.427784e+07</td>\n",
       "      <td>23.244444</td>\n",
       "      <td>3.892778</td>\n",
       "      <td>324.611111</td>\n",
       "      <td>26.950000</td>\n",
       "      <td>2.809870e+08</td>\n",
       "      <td>16.592222</td>\n",
       "      <td>2.0</td>\n",
       "      <td>9.649575e+08</td>\n",
       "    </tr>\n",
       "    <tr>\n",
       "      <td>std</td>\n",
       "      <td>22.350813</td>\n",
       "      <td>0.501917</td>\n",
       "      <td>3.477783e+06</td>\n",
       "      <td>3.279387</td>\n",
       "      <td>1.453247</td>\n",
       "      <td>120.108842</td>\n",
       "      <td>6.211683</td>\n",
       "      <td>1.524912e+08</td>\n",
       "      <td>1.207937</td>\n",
       "      <td>0.0</td>\n",
       "      <td>3.574762e+08</td>\n",
       "    </tr>\n",
       "    <tr>\n",
       "      <td>min</td>\n",
       "      <td>1955.000000</td>\n",
       "      <td>1.020000</td>\n",
       "      <td>6.711079e+06</td>\n",
       "      <td>19.300000</td>\n",
       "      <td>2.240000</td>\n",
       "      <td>138.000000</td>\n",
       "      <td>17.600000</td>\n",
       "      <td>7.195850e+07</td>\n",
       "      <td>14.780000</td>\n",
       "      <td>2.0</td>\n",
       "      <td>4.098806e+08</td>\n",
       "    </tr>\n",
       "    <tr>\n",
       "      <td>25%</td>\n",
       "      <td>1976.250000</td>\n",
       "      <td>1.125000</td>\n",
       "      <td>1.363083e+07</td>\n",
       "      <td>20.300000</td>\n",
       "      <td>2.370000</td>\n",
       "      <td>216.250000</td>\n",
       "      <td>21.725000</td>\n",
       "      <td>1.396358e+08</td>\n",
       "      <td>15.372500</td>\n",
       "      <td>2.0</td>\n",
       "      <td>6.420654e+08</td>\n",
       "    </tr>\n",
       "    <tr>\n",
       "      <td>50%</td>\n",
       "      <td>1997.500000</td>\n",
       "      <td>1.785000</td>\n",
       "      <td>1.426219e+07</td>\n",
       "      <td>22.250000</td>\n",
       "      <td>3.655000</td>\n",
       "      <td>339.500000</td>\n",
       "      <td>27.050000</td>\n",
       "      <td>2.734546e+08</td>\n",
       "      <td>16.990000</td>\n",
       "      <td>2.0</td>\n",
       "      <td>1.010249e+09</td>\n",
       "    </tr>\n",
       "    <tr>\n",
       "      <td>75%</td>\n",
       "      <td>2015.750000</td>\n",
       "      <td>2.130000</td>\n",
       "      <td>1.727104e+07</td>\n",
       "      <td>27.025000</td>\n",
       "      <td>5.300000</td>\n",
       "      <td>444.000000</td>\n",
       "      <td>33.075000</td>\n",
       "      <td>4.368111e+08</td>\n",
       "      <td>17.725000</td>\n",
       "      <td>2.0</td>\n",
       "      <td>1.320926e+09</td>\n",
       "    </tr>\n",
       "    <tr>\n",
       "      <td>max</td>\n",
       "      <td>2020.000000</td>\n",
       "      <td>2.330000</td>\n",
       "      <td>1.853059e+07</td>\n",
       "      <td>28.400000</td>\n",
       "      <td>5.900000</td>\n",
       "      <td>464.000000</td>\n",
       "      <td>35.000000</td>\n",
       "      <td>4.830986e+08</td>\n",
       "      <td>17.750000</td>\n",
       "      <td>2.0</td>\n",
       "      <td>1.380004e+09</td>\n",
       "    </tr>\n",
       "  </tbody>\n",
       "</table>\n",
       "</div>"
      ],
      "text/plain": [
       "              Year  Yearly % \\nChange  Yearly\\nChange  Median Age  \\\n",
       "count    18.000000          18.000000    1.800000e+01   18.000000   \n",
       "mean   1994.166667           1.691667    1.427784e+07   23.244444   \n",
       "std      22.350813           0.501917    3.477783e+06    3.279387   \n",
       "min    1955.000000           1.020000    6.711079e+06   19.300000   \n",
       "25%    1976.250000           1.125000    1.363083e+07   20.300000   \n",
       "50%    1997.500000           1.785000    1.426219e+07   22.250000   \n",
       "75%    2015.750000           2.130000    1.727104e+07   27.025000   \n",
       "max    2020.000000           2.330000    1.853059e+07   28.400000   \n",
       "\n",
       "       Fertility Rate  Density (P/Km²)  Urban\\nPop %  Urban Population  \\\n",
       "count       18.000000        18.000000     18.000000      1.800000e+01   \n",
       "mean         3.892778       324.611111     26.950000      2.809870e+08   \n",
       "std          1.453247       120.108842      6.211683      1.524912e+08   \n",
       "min          2.240000       138.000000     17.600000      7.195850e+07   \n",
       "25%          2.370000       216.250000     21.725000      1.396358e+08   \n",
       "50%          3.655000       339.500000     27.050000      2.734546e+08   \n",
       "75%          5.300000       444.000000     33.075000      4.368111e+08   \n",
       "max          5.900000       464.000000     35.000000      4.830986e+08   \n",
       "\n",
       "       Country's Share of\\nWorld Pop  India\\nGlobal Rank    Population  \n",
       "count                      18.000000                18.0  1.800000e+01  \n",
       "mean                       16.592222                 2.0  9.649575e+08  \n",
       "std                         1.207937                 0.0  3.574762e+08  \n",
       "min                        14.780000                 2.0  4.098806e+08  \n",
       "25%                        15.372500                 2.0  6.420654e+08  \n",
       "50%                        16.990000                 2.0  1.010249e+09  \n",
       "75%                        17.725000                 2.0  1.320926e+09  \n",
       "max                        17.750000                 2.0  1.380004e+09  "
      ]
     },
     "execution_count": 16,
     "metadata": {},
     "output_type": "execute_result"
    }
   ],
   "source": [
    "df.describe()"
   ]
  },
  {
   "cell_type": "code",
   "execution_count": 17,
   "metadata": {},
   "outputs": [
    {
     "name": "stdout",
     "output_type": "stream",
     "text": [
      "<class 'pandas.core.frame.DataFrame'>\n",
      "RangeIndex: 18 entries, 0 to 17\n",
      "Data columns (total 12 columns):\n",
      "Year                            18 non-null int64\n",
      "Yearly % \n",
      "Change                18 non-null float64\n",
      "Yearly\n",
      "Change                   18 non-null int64\n",
      "Median Age                      18 non-null float64\n",
      "Fertility Rate                  18 non-null float64\n",
      "Density (P/Km²)                 18 non-null int64\n",
      "Urban\n",
      "Pop %                     18 non-null float64\n",
      "Urban Population                18 non-null int64\n",
      "Country's Share of\n",
      "World Pop    18 non-null float64\n",
      "World Population                18 non-null object\n",
      "India\n",
      "Global Rank               18 non-null int64\n",
      "Population                      18 non-null int64\n",
      "dtypes: float64(5), int64(6), object(1)\n",
      "memory usage: 1.8+ KB\n"
     ]
    }
   ],
   "source": [
    "df.info()"
   ]
  },
  {
   "cell_type": "code",
   "execution_count": 18,
   "metadata": {},
   "outputs": [
    {
     "data": {
      "text/plain": [
       "Year                             0\n",
       "Yearly % \\nChange                0\n",
       "Yearly\\nChange                   0\n",
       "Median Age                       0\n",
       "Fertility Rate                   0\n",
       "Density (P/Km²)                  0\n",
       "Urban\\nPop %                     0\n",
       "Urban Population                 0\n",
       "Country's Share of\\nWorld Pop    0\n",
       "World Population                 0\n",
       "India\\nGlobal Rank               0\n",
       "Population                       0\n",
       "dtype: int64"
      ]
     },
     "execution_count": 18,
     "metadata": {},
     "output_type": "execute_result"
    }
   ],
   "source": [
    "df.isnull().sum()"
   ]
  },
  {
   "cell_type": "markdown",
   "metadata": {},
   "source": [
    "# Assign data to x and y "
   ]
  },
  {
   "cell_type": "code",
   "execution_count": 19,
   "metadata": {},
   "outputs": [],
   "source": [
    "#Assign data to X and Y\n",
    "X = df['Year'].values\n",
    "Y = df['Population'].values"
   ]
  },
  {
   "cell_type": "markdown",
   "metadata": {},
   "source": [
    "# Set Train and Test Data"
   ]
  },
  {
   "cell_type": "code",
   "execution_count": 20,
   "metadata": {},
   "outputs": [],
   "source": [
    "#Set Train and Test Data\n",
    "x_train, x_test, y_train, y_test = train_test_split(X,Y, train_size = .75, test_size=0.25, random_state = 7)\n",
    "x_train, y_train\n",
    "x_train = x_train.reshape(-1,1)\n",
    "x_test = x_test.reshape(-1,1)"
   ]
  },
  {
   "cell_type": "markdown",
   "metadata": {},
   "source": [
    "# Creating Linear regression model"
   ]
  },
  {
   "cell_type": "code",
   "execution_count": 21,
   "metadata": {},
   "outputs": [
    {
     "data": {
      "text/plain": [
       "LinearRegression(copy_X=True, fit_intercept=True, n_jobs=None, normalize=False)"
      ]
     },
     "execution_count": 21,
     "metadata": {},
     "output_type": "execute_result"
    }
   ],
   "source": [
    "#Creating t linear regression model\n",
    "model = LinearRegression()\n",
    "model.fit(x_train, y_train)"
   ]
  },
  {
   "cell_type": "markdown",
   "metadata": {},
   "source": [
    "# Use Linear regression to predict output"
   ]
  },
  {
   "cell_type": "code",
   "execution_count": 22,
   "metadata": {},
   "outputs": [
    {
     "data": {
      "text/plain": [
       "0.9941264976954836"
      ]
     },
     "execution_count": 22,
     "metadata": {},
     "output_type": "execute_result"
    }
   ],
   "source": [
    "#use linear regression to predict output\n",
    "y_predict = model.predict(x_test.reshape(-1,1))\n",
    "train_accuracy = model.score(x_train, y_train)\n",
    "train_accuracy"
   ]
  },
  {
   "cell_type": "code",
   "execution_count": 23,
   "metadata": {},
   "outputs": [
    {
     "data": {
      "text/plain": [
       "0.9932508700933472"
      ]
     },
     "execution_count": 23,
     "metadata": {},
     "output_type": "execute_result"
    }
   ],
   "source": [
    "test_accuracy = model.score(x_test, y_test)\n",
    "test_accuracy"
   ]
  },
  {
   "cell_type": "code",
   "execution_count": 24,
   "metadata": {},
   "outputs": [
    {
     "data": {
      "text/plain": [
       "array([[1999]])"
      ]
     },
     "execution_count": 24,
     "metadata": {},
     "output_type": "execute_result"
    }
   ],
   "source": [
    "import numpy as np\n",
    "new_data = np.array([1999]).reshape(-1,1)\n",
    "new_data"
   ]
  },
  {
   "cell_type": "code",
   "execution_count": 25,
   "metadata": {},
   "outputs": [
    {
     "data": {
      "text/plain": [
       "array([1.04366522e+09])"
      ]
     },
     "execution_count": 25,
     "metadata": {},
     "output_type": "execute_result"
    }
   ],
   "source": [
    "model.predict(new_data)"
   ]
  },
  {
   "cell_type": "markdown",
   "metadata": {},
   "source": [
    "# Example"
   ]
  },
  {
   "cell_type": "code",
   "execution_count": 26,
   "metadata": {},
   "outputs": [
    {
     "data": {
      "text/plain": [
       "array([[2021]])"
      ]
     },
     "execution_count": 26,
     "metadata": {},
     "output_type": "execute_result"
    }
   ],
   "source": [
    "#Example\n",
    "x=np.array([2021]).reshape(-1,1)\n",
    "x"
   ]
  },
  {
   "cell_type": "code",
   "execution_count": 27,
   "metadata": {},
   "outputs": [
    {
     "data": {
      "text/plain": [
       "array([1.39285838e+09])"
      ]
     },
     "execution_count": 27,
     "metadata": {},
     "output_type": "execute_result"
    }
   ],
   "source": [
    "model.predict(x)"
   ]
  },
  {
   "cell_type": "markdown",
   "metadata": {},
   "source": [
    "# Plotting"
   ]
  },
  {
   "cell_type": "code",
   "execution_count": 28,
   "metadata": {},
   "outputs": [
    {
     "data": {
      "text/plain": [
       "Text(0.5, 1.0, 'India Population')"
      ]
     },
     "execution_count": 28,
     "metadata": {},
     "output_type": "execute_result"
    },
    {
     "data": {
      "image/png": "[encoded data removed]",
      "text/plain": [
       "<Figure size 432x288 with 1 Axes>"
      ]
     },
     "metadata": {
      "needs_background": "light"
     },
     "output_type": "display_data"
    }
   ],
   "source": [
    "#Plotting\n",
    "# X and Y\n",
    "%matplotlib inline\n",
    "plt.scatter(X,Y, color='blue')\n",
    "plt.xlabel('Year')\n",
    "plt.ylabel('Population')\n",
    "plt.title('India Population')"
   ]
  },
  {
   "cell_type": "code",
   "execution_count": 29,
   "metadata": {},
   "outputs": [
    {
     "data": {
      "text/plain": [
       "Text(0.5, 1.0, 'India Population')"
      ]
     },
     "execution_count": 29,
     "metadata": {},
     "output_type": "execute_result"
    },
    {
     "data": {
      "image/png": "[encoded data removed]",
      "text/plain": [
       "<Figure size 432x288 with 1 Axes>"
      ]
     },
     "metadata": {
      "needs_background": "light"
     },
     "output_type": "display_data"
    }
   ],
   "source": [
    "%matplotlib inline\n",
    "plt.scatter(x_test,y_test, color='blue')\n",
    "plt.scatter(x_test,y_predict, color='red')\n",
    "plt.xlabel('Year')\n",
    "plt.ylabel('Population')\n",
    "plt.title('India Population')"
   ]
  },
  {
   "cell_type": "code",
   "execution_count": 30,
   "metadata": {},
   "outputs": [
    {
     "data": {
      "text/plain": [
       "Text(0.5, 1.0, 'India Population')"
      ]
     },
     "execution_count": 30,
     "metadata": {},
     "output_type": "execute_result"
    },
    {
     "data": {
      "image/png": "[encoded data removed]",
      "text/plain": [
       "<Figure size 432x288 with 1 Axes>"
      ]
     },
     "metadata": {
      "needs_background": "light"
     },
     "output_type": "display_data"
    }
   ],
   "source": [
    "%matplotlib inline\n",
    "plt.scatter(X,Y, color='blue')\n",
    "plt.scatter(x_test,y_predict, color='red')\n",
    "plt.xlabel('Year')\n",
    "plt.ylabel('Population')\n",
    "plt.title('India Population')"
   ]
  },
  {
   "cell_type": "code",
   "execution_count": 95,
   "metadata": {},
   "outputs": [
    {
     "data": {
      "text/plain": [
       "0     1.817681e+17\n",
       "1     1.778092e+17\n",
       "2     1.738576e+17\n",
       "3     1.699260e+17\n",
       "4     1.660139e+17\n",
       "5     1.621020e+17\n",
       "6     1.426480e+17\n",
       "7     1.224590e+17\n",
       "8     1.031834e+17\n",
       "9     8.555416e+16\n",
       "10    6.996579e+16\n",
       "11    5.623167e+16\n",
       "12    4.450546e+16\n",
       "13    3.522158e+16\n",
       "14    2.788094e+16\n",
       "15    2.249771e+16\n",
       "16    1.831148e+16\n",
       "17    1.515267e+16\n",
       "dtype: float64"
      ]
     },
     "execution_count": 95,
     "metadata": {},
     "output_type": "execute_result"
    }
   ],
   "source": [
    "df.var(axis=1)"
   ]
  },
  {
   "cell_type": "code",
   "execution_count": 19,
   "metadata": {},
   "outputs": [
    {
     "data": {
      "text/plain": [
       "array([[2021]])"
      ]
     },
     "execution_count": 19,
     "metadata": {},
     "output_type": "execute_result"
    }
   ],
   "source": [
    "x=np.array([2021]).reshape(-1,1)\n",
    "x"
   ]
  },
  {
   "cell_type": "code",
   "execution_count": 31,
   "metadata": {},
   "outputs": [
    {
     "data": {
      "text/plain": [
       "array([1.39285838e+09])"
      ]
     },
     "execution_count": 31,
     "metadata": {},
     "output_type": "execute_result"
    }
   ],
   "source": [
    "model.predict(x)"
   ]
  },
  {
   "cell_type": "code",
   "execution_count": 32,
   "metadata": {},
   "outputs": [
    {
     "data": {
      "text/plain": [
       "array([[2016]])"
      ]
     },
     "execution_count": 32,
     "metadata": {},
     "output_type": "execute_result"
    }
   ],
   "source": [
    "x=np.array([2016]).reshape(-1,1)\n",
    "x"
   ]
  },
  {
   "cell_type": "code",
   "execution_count": 33,
   "metadata": {},
   "outputs": [
    {
     "data": {
      "text/plain": [
       "array([1.3134963e+09])"
      ]
     },
     "execution_count": 33,
     "metadata": {},
     "output_type": "execute_result"
    }
   ],
   "source": [
    "model.predict(x)"
   ]
  },
  {
   "cell_type": "code",
   "execution_count": 34,
   "metadata": {},
   "outputs": [
    {
     "data": {
      "text/plain": [
       "array([[2017]])"
      ]
     },
     "execution_count": 34,
     "metadata": {},
     "output_type": "execute_result"
    }
   ],
   "source": [
    "x=np.array([2017]).reshape(-1,1)\n",
    "x"
   ]
  },
  {
   "cell_type": "code",
   "execution_count": 35,
   "metadata": {},
   "outputs": [
    {
     "data": {
      "text/plain": [
       "array([1.32936872e+09])"
      ]
     },
     "execution_count": 35,
     "metadata": {},
     "output_type": "execute_result"
    }
   ],
   "source": [
    "model.predict(x)"
   ]
  },
  {
   "cell_type": "code",
   "execution_count": 38,
   "metadata": {},
   "outputs": [
    {
     "data": {
      "text/plain": [
       "array([[2016]])"
      ]
     },
     "execution_count": 38,
     "metadata": {},
     "output_type": "execute_result"
    }
   ],
   "source": [
    "x=np.array([2016]).reshape(-1,1)\n",
    "x"
   ]
  },
  {
   "cell_type": "code",
   "execution_count": 39,
   "metadata": {},
   "outputs": [
    {
     "data": {
      "text/plain": [
       "array([1.3134963e+09])"
      ]
     },
     "execution_count": 39,
     "metadata": {},
     "output_type": "execute_result"
    }
   ],
   "source": [
    "model.predict(x)"
   ]
  },
  {
   "cell_type": "code",
   "execution_count": 40,
   "metadata": {},
   "outputs": [
    {
     "data": {
      "text/plain": [
       "array([[2015]])"
      ]
     },
     "execution_count": 40,
     "metadata": {},
     "output_type": "execute_result"
    }
   ],
   "source": [
    "x=np.array([2015]).reshape(-1,1)\n",
    "x"
   ]
  },
  {
   "cell_type": "code",
   "execution_count": 41,
   "metadata": {},
   "outputs": [
    {
     "data": {
      "text/plain": [
       "array([1.29762388e+09])"
      ]
     },
     "execution_count": 41,
     "metadata": {},
     "output_type": "execute_result"
    }
   ],
   "source": [
    "model.predict(x)"
   ]
  },
  {
   "cell_type": "code",
   "execution_count": 44,
   "metadata": {},
   "outputs": [
    {
     "data": {
      "text/plain": [
       "array([[2014]])"
      ]
     },
     "execution_count": 44,
     "metadata": {},
     "output_type": "execute_result"
    }
   ],
   "source": [
    "x=np.array([2014]).reshape(-1,1)\n",
    "x"
   ]
  },
  {
   "cell_type": "code",
   "execution_count": 45,
   "metadata": {},
   "outputs": [
    {
     "data": {
      "text/plain": [
       "array([1.28175147e+09])"
      ]
     },
     "execution_count": 45,
     "metadata": {},
     "output_type": "execute_result"
    }
   ],
   "source": [
    "model.predict(x)"
   ]
  },
  {
   "cell_type": "code",
   "execution_count": 131,
   "metadata": {},
   "outputs": [
    {
     "data": {
      "text/plain": [
       "array([3.45278889e+08])"
      ]
     },
     "execution_count": 131,
     "metadata": {},
     "output_type": "execute_result"
    }
   ],
   "source": [
    "x=np.array([1955]).reshape(-1,1)\n",
    "s1=model.predict(x)\n",
    "s1"
   ]
  },
  {
   "cell_type": "code",
   "execution_count": 133,
   "metadata": {},
   "outputs": [
    {
     "data": {
      "text/plain": [
       "array([4.24640972e+08])"
      ]
     },
     "execution_count": 133,
     "metadata": {},
     "output_type": "execute_result"
    }
   ],
   "source": [
    "x=np.array([1960]).reshape(-1,1)\n",
    "s2=model.predict(x)\n",
    "s2"
   ]
  },
  {
   "cell_type": "code",
   "execution_count": 152,
   "metadata": {},
   "outputs": [
    {
     "data": {
      "text/plain": [
       "array([79362082.94833374])"
      ]
     },
     "execution_count": 152,
     "metadata": {},
     "output_type": "execute_result"
    }
   ],
   "source": [
    "s2-s1"
   ]
  },
  {
   "cell_type": "code",
   "execution_count": 134,
   "metadata": {},
   "outputs": [
    {
     "data": {
      "text/plain": [
       "array([5.04003055e+08])"
      ]
     },
     "execution_count": 134,
     "metadata": {},
     "output_type": "execute_result"
    }
   ],
   "source": [
    "x=np.array([1965]).reshape(-1,1)\n",
    "s3=model.predict(x)\n",
    "s3"
   ]
  },
  {
   "cell_type": "code",
   "execution_count": 153,
   "metadata": {},
   "outputs": [
    {
     "data": {
      "text/plain": [
       "array([79362082.94833374])"
      ]
     },
     "execution_count": 153,
     "metadata": {},
     "output_type": "execute_result"
    }
   ],
   "source": [
    "s3-s2"
   ]
  },
  {
   "cell_type": "code",
   "execution_count": 135,
   "metadata": {},
   "outputs": [
    {
     "data": {
      "text/plain": [
       "array([5.83365138e+08])"
      ]
     },
     "execution_count": 135,
     "metadata": {},
     "output_type": "execute_result"
    }
   ],
   "source": [
    "x=np.array([1970]).reshape(-1,1)\n",
    "s4=model.predict(x)\n",
    "s4"
   ]
  },
  {
   "cell_type": "code",
   "execution_count": 154,
   "metadata": {},
   "outputs": [
    {
     "data": {
      "text/plain": [
       "array([79362082.94833374])"
      ]
     },
     "execution_count": 154,
     "metadata": {},
     "output_type": "execute_result"
    }
   ],
   "source": [
    "s4-s3"
   ]
  },
  {
   "cell_type": "code",
   "execution_count": 136,
   "metadata": {},
   "outputs": [
    {
     "data": {
      "text/plain": [
       "array([6.6272722e+08])"
      ]
     },
     "execution_count": 136,
     "metadata": {},
     "output_type": "execute_result"
    }
   ],
   "source": [
    "x=np.array([1975]).reshape(-1,1)\n",
    "s5=model.predict(x)\n",
    "s5"
   ]
  },
  {
   "cell_type": "code",
   "execution_count": 155,
   "metadata": {},
   "outputs": [
    {
     "data": {
      "text/plain": [
       "array([79362082.94833374])"
      ]
     },
     "execution_count": 155,
     "metadata": {},
     "output_type": "execute_result"
    }
   ],
   "source": [
    "s5-s4"
   ]
  },
  {
   "cell_type": "code",
   "execution_count": 137,
   "metadata": {},
   "outputs": [
    {
     "data": {
      "text/plain": [
       "array([7.42089303e+08])"
      ]
     },
     "execution_count": 137,
     "metadata": {},
     "output_type": "execute_result"
    }
   ],
   "source": [
    "x=np.array([1980]).reshape(-1,1)\n",
    "s6=model.predict(x)\n",
    "s6"
   ]
  },
  {
   "cell_type": "code",
   "execution_count": 156,
   "metadata": {},
   "outputs": [
    {
     "data": {
      "text/plain": [
       "array([79362082.94833755])"
      ]
     },
     "execution_count": 156,
     "metadata": {},
     "output_type": "execute_result"
    }
   ],
   "source": [
    "s6-s5"
   ]
  },
  {
   "cell_type": "code",
   "execution_count": 138,
   "metadata": {},
   "outputs": [
    {
     "data": {
      "text/plain": [
       "array([8.21451386e+08])"
      ]
     },
     "execution_count": 138,
     "metadata": {},
     "output_type": "execute_result"
    }
   ],
   "source": [
    "x=np.array([1985]).reshape(-1,1)\n",
    "s7=model.predict(x)\n",
    "s7"
   ]
  },
  {
   "cell_type": "code",
   "execution_count": 157,
   "metadata": {},
   "outputs": [
    {
     "data": {
      "text/plain": [
       "array([79362082.94833374])"
      ]
     },
     "execution_count": 157,
     "metadata": {},
     "output_type": "execute_result"
    }
   ],
   "source": [
    "s7-s6"
   ]
  },
  {
   "cell_type": "code",
   "execution_count": 139,
   "metadata": {},
   "outputs": [
    {
     "data": {
      "text/plain": [
       "array([9.00813469e+08])"
      ]
     },
     "execution_count": 139,
     "metadata": {},
     "output_type": "execute_result"
    }
   ],
   "source": [
    "x=np.array([1990]).reshape(-1,1)\n",
    "s8=model.predict(x)\n",
    "s8"
   ]
  },
  {
   "cell_type": "code",
   "execution_count": 159,
   "metadata": {},
   "outputs": [
    {
     "data": {
      "text/plain": [
       "array([79362082.94833374])"
      ]
     },
     "execution_count": 159,
     "metadata": {},
     "output_type": "execute_result"
    }
   ],
   "source": [
    "s8-s7"
   ]
  },
  {
   "cell_type": "code",
   "execution_count": 140,
   "metadata": {},
   "outputs": [
    {
     "data": {
      "text/plain": [
       "array([9.80175552e+08])"
      ]
     },
     "execution_count": 140,
     "metadata": {},
     "output_type": "execute_result"
    }
   ],
   "source": [
    "x=np.array([1995]).reshape(-1,1)\n",
    "s9=model.predict(x)\n",
    "s9"
   ]
  },
  {
   "cell_type": "code",
   "execution_count": 160,
   "metadata": {},
   "outputs": [
    {
     "data": {
      "text/plain": [
       "array([79362082.94833374])"
      ]
     },
     "execution_count": 160,
     "metadata": {},
     "output_type": "execute_result"
    }
   ],
   "source": [
    "s9-s8"
   ]
  },
  {
   "cell_type": "code",
   "execution_count": 141,
   "metadata": {},
   "outputs": [
    {
     "data": {
      "text/plain": [
       "array([1.05953764e+09])"
      ]
     },
     "execution_count": 141,
     "metadata": {},
     "output_type": "execute_result"
    }
   ],
   "source": [
    "x=np.array([2000]).reshape(-1,1)\n",
    "s10=model.predict(x)\n",
    "s10"
   ]
  },
  {
   "cell_type": "code",
   "execution_count": 161,
   "metadata": {},
   "outputs": [
    {
     "data": {
      "text/plain": [
       "array([79362082.94833374])"
      ]
     },
     "execution_count": 161,
     "metadata": {},
     "output_type": "execute_result"
    }
   ],
   "source": [
    "s10-s9"
   ]
  },
  {
   "cell_type": "code",
   "execution_count": 142,
   "metadata": {},
   "outputs": [
    {
     "data": {
      "text/plain": [
       "array([1.13889972e+09])"
      ]
     },
     "execution_count": 142,
     "metadata": {},
     "output_type": "execute_result"
    }
   ],
   "source": [
    "x=np.array([2005]).reshape(-1,1)\n",
    "s11=model.predict(x)\n",
    "s11"
   ]
  },
  {
   "cell_type": "code",
   "execution_count": 162,
   "metadata": {},
   "outputs": [
    {
     "data": {
      "text/plain": [
       "array([79362082.94833374])"
      ]
     },
     "execution_count": 162,
     "metadata": {},
     "output_type": "execute_result"
    }
   ],
   "source": [
    "s11-s10"
   ]
  },
  {
   "cell_type": "code",
   "execution_count": 163,
   "metadata": {},
   "outputs": [
    {
     "data": {
      "text/plain": [
       "array([1.2182618e+09])"
      ]
     },
     "execution_count": 163,
     "metadata": {},
     "output_type": "execute_result"
    }
   ],
   "source": [
    "x=np.array([2010]).reshape(-1,1)\n",
    "s12=model.predict(x)\n",
    "s12"
   ]
  },
  {
   "cell_type": "code",
   "execution_count": 164,
   "metadata": {},
   "outputs": [
    {
     "data": {
      "text/plain": [
       "array([79362082.94833374])"
      ]
     },
     "execution_count": 164,
     "metadata": {},
     "output_type": "execute_result"
    }
   ],
   "source": [
    "s12-s11"
   ]
  },
  {
   "cell_type": "code",
   "execution_count": 146,
   "metadata": {},
   "outputs": [
    {
     "data": {
      "text/plain": [
       "array([1.29762388e+09])"
      ]
     },
     "execution_count": 146,
     "metadata": {},
     "output_type": "execute_result"
    }
   ],
   "source": [
    "x=np.array([2015]).reshape(-1,1)\n",
    "s13=model.predict(x)\n",
    "s13"
   ]
  },
  {
   "cell_type": "code",
   "execution_count": 165,
   "metadata": {},
   "outputs": [
    {
     "data": {
      "text/plain": [
       "array([79362082.94833374])"
      ]
     },
     "execution_count": 165,
     "metadata": {},
     "output_type": "execute_result"
    }
   ],
   "source": [
    "s13-s12"
   ]
  },
  {
   "cell_type": "code",
   "execution_count": 148,
   "metadata": {},
   "outputs": [
    {
     "data": {
      "text/plain": [
       "array([1.37698597e+09])"
      ]
     },
     "execution_count": 148,
     "metadata": {},
     "output_type": "execute_result"
    }
   ],
   "source": [
    "x=np.array([2020]).reshape(-1,1)\n",
    "s14=model.predict(x)\n",
    "s14"
   ]
  },
  {
   "cell_type": "code",
   "execution_count": 166,
   "metadata": {},
   "outputs": [
    {
     "data": {
      "text/plain": [
       "array([79362082.94833755])"
      ]
     },
     "execution_count": 166,
     "metadata": {},
     "output_type": "execute_result"
    }
   ],
   "source": [
    "s14-s13"
   ]
  },
  {
   "cell_type": "code",
   "execution_count": 118,
   "metadata": {},
   "outputs": [
    {
     "data": {
      "text/plain": [
       "array([1.29762388e+09])"
      ]
     },
     "execution_count": 118,
     "metadata": {},
     "output_type": "execute_result"
    }
   ],
   "source": [
    "x=np.array([2015]).reshape(-1,1)\n",
    "a=model.predict(x)\n",
    "a"
   ]
  },
  {
   "cell_type": "code",
   "execution_count": 120,
   "metadata": {},
   "outputs": [
    {
     "data": {
      "text/plain": [
       "array([1.3134963e+09])"
      ]
     },
     "execution_count": 120,
     "metadata": {},
     "output_type": "execute_result"
    }
   ],
   "source": [
    "x=np.array([2016]).reshape(-1,1)\n",
    "b=model.predict(x)\n",
    "b"
   ]
  },
  {
   "cell_type": "code",
   "execution_count": 121,
   "metadata": {},
   "outputs": [
    {
     "data": {
      "text/plain": [
       "array([1.32936872e+09])"
      ]
     },
     "execution_count": 121,
     "metadata": {},
     "output_type": "execute_result"
    }
   ],
   "source": [
    "x=np.array([2017]).reshape(-1,1)\n",
    "c=model.predict(x)\n",
    "c"
   ]
  },
  {
   "cell_type": "code",
   "execution_count": 122,
   "metadata": {},
   "outputs": [
    {
     "data": {
      "text/plain": [
       "array([1.34524113e+09])"
      ]
     },
     "execution_count": 122,
     "metadata": {},
     "output_type": "execute_result"
    }
   ],
   "source": [
    "x=np.array([2018]).reshape(-1,1)\n",
    "d=model.predict(x)\n",
    "d"
   ]
  },
  {
   "cell_type": "code",
   "execution_count": 123,
   "metadata": {},
   "outputs": [
    {
     "data": {
      "text/plain": [
       "array([1.36111355e+09])"
      ]
     },
     "execution_count": 123,
     "metadata": {},
     "output_type": "execute_result"
    }
   ],
   "source": [
    "x=np.array([2019]).reshape(-1,1)\n",
    "e=model.predict(x)\n",
    "e"
   ]
  },
  {
   "cell_type": "code",
   "execution_count": 124,
   "metadata": {},
   "outputs": [
    {
     "data": {
      "text/plain": [
       "array([1.37698597e+09])"
      ]
     },
     "execution_count": 124,
     "metadata": {},
     "output_type": "execute_result"
    }
   ],
   "source": [
    "x=np.array([2020]).reshape(-1,1)\n",
    "f=model.predict(x)\n",
    "f"
   ]
  },
  {
   "cell_type": "code",
   "execution_count": 125,
   "metadata": {},
   "outputs": [
    {
     "data": {
      "text/plain": [
       "array([0.])"
      ]
     },
     "execution_count": 125,
     "metadata": {},
     "output_type": "execute_result"
    }
   ],
   "source": [
    "b-a"
   ]
  },
  {
   "cell_type": "code",
   "execution_count": 126,
   "metadata": {},
   "outputs": [
    {
     "data": {
      "text/plain": [
       "array([15872416.58966827])"
      ]
     },
     "execution_count": 126,
     "metadata": {},
     "output_type": "execute_result"
    }
   ],
   "source": [
    "c-b"
   ]
  },
  {
   "cell_type": "code",
   "execution_count": 127,
   "metadata": {},
   "outputs": [
    {
     "data": {
      "text/plain": [
       "array([15872416.58966446])"
      ]
     },
     "execution_count": 127,
     "metadata": {},
     "output_type": "execute_result"
    }
   ],
   "source": [
    "d-c"
   ]
  },
  {
   "cell_type": "code",
   "execution_count": 128,
   "metadata": {},
   "outputs": [
    {
     "data": {
      "text/plain": [
       "array([15872416.58966827])"
      ]
     },
     "execution_count": 128,
     "metadata": {},
     "output_type": "execute_result"
    }
   ],
   "source": [
    "e-d"
   ]
  },
  {
   "cell_type": "code",
   "execution_count": 130,
   "metadata": {},
   "outputs": [
    {
     "data": {
      "text/plain": [
       "array([15872416.58966827])"
      ]
     },
     "execution_count": 130,
     "metadata": {},
     "output_type": "execute_result"
    }
   ],
   "source": [
    "f-e"
   ]
  },
  {
   "cell_type": "code",
   "execution_count": null,
   "metadata": {},
   "outputs": [],
   "source": []
  },
  {
   "cell_type": "code",
   "execution_count": 103,
   "metadata": {},
   "outputs": [
    {
     "data": {
      "text/plain": [
       "-13586631"
      ]
     },
     "execution_count": 103,
     "metadata": {},
     "output_type": "execute_result"
    }
   ],
   "source": [
    "x=[]\n",
    "for i in range(0,len(df['Population'])-1):\n",
    "    x.append(df['Population'][i+1]-df['Population'][i])\n",
    "max(x)"
   ]
  },
  {
   "cell_type": "code",
   "execution_count": null,
   "metadata": {},
   "outputs": [],
   "source": []
  }
 ],
 "metadata": {
  "kernelspec": {
   "display_name": "Python 3",
   "language": "python",
   "name": "python3"
  },
  "language_info": {
   "codemirror_mode": {
    "name": "ipython",
    "version": 3
   },
   "file_extension": ".py",
   "mimetype": "text/x-python",
   "name": "python",
   "nbconvert_exporter": "python",
   "pygments_lexer": "ipython3",
   "version": "3.7.4"
  }
 },
 "nbformat": 4,
 "nbformat_minor": 2
}
